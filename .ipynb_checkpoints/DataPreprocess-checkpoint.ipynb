{
 "cells": [
  {
   "cell_type": "code",
   "execution_count": 1,
   "metadata": {
    "scrolled": true
   },
   "outputs": [
    {
     "data": {
      "text/html": [
       "\n",
       "    <script>\n",
       "    function code_toggle() {\n",
       "        if ($('div.cell.code_cell.rendered.selected div.input').css('display')!='none'){\n",
       "            $('div.cell.code_cell.rendered.selected div.input').hide();\n",
       "        } else {\n",
       "            $('div.cell.code_cell.rendered.selected div.input').show();\n",
       "        }\n",
       "    }\n",
       "    </script>\n",
       "\n",
       "\n",
       "<form action=\"javascript:code_toggle()\"><input type=\"submit\" id=\"toggleButton\" value=\"Show Sloution\"></form>\n"
      ],
      "text/plain": [
       "<IPython.core.display.HTML object>"
      ]
     },
     "metadata": {},
     "output_type": "display_data"
    }
   ],
   "source": [
    "import pandas as pd\n",
    "import math\n",
    "import numpy as np\n",
    "from sklearn.cluster import KMeans\n",
    "from sklearn import cluster, metrics\n",
    "import matplotlib.pyplot as plt\n",
    "from itertools import chain \n",
    "from sklearn.linear_model import LassoCV\n",
    "from sklearn.linear_model import Lasso\n",
    "import xgboost\n",
    "from sklearn.metrics import explained_variance_score\n",
    "from xgboost import plot_importance\n",
    "from matplotlib import pyplot\n",
    "from toggle_cell import toggle_code as hide_sloution"
   ]
  },
  {
   "cell_type": "markdown",
   "metadata": {},
   "source": [
    "# DataPreprocess"
   ]
  },
  {
   "cell_type": "code",
   "execution_count": 3,
   "metadata": {
    "scrolled": true
   },
   "outputs": [
    {
     "data": {
      "text/html": [
       "\n",
       "<form action=\"javascript:code_toggle()\"><input type=\"submit\" id=\"toggleButton\" value=\"Show Sloution\"></form>\n"
      ],
      "text/plain": [
       "<IPython.core.display.HTML object>"
      ]
     },
     "metadata": {},
     "output_type": "display_data"
    }
   ],
   "source": [
    "df = pd.read_csv(\"C:/Users/saes0/Desktop/competition/0714train.csv\")\n",
    "# df_y = df[['Output_A1', 'Output_A2', 'Output_A3', 'Output_A4', 'Output_A5', 'Output_A6']]\n",
    "# df.drop(df.iloc[:,282:288], inplace = True, axis = 1)\n",
    "concat_data = []\n",
    "num,dire = dict(),dict()\n",
    "num['L'] = num['D'] = -1\n",
    "num['R'] = num['U'] = 1\n",
    "num['N'] = dire['N'] = 0\n",
    "dire['L'] = dire['R'] = 0\n",
    "dire['U'] = dire['D'] = 1\n",
    "\n",
    "for j in range(159,183):\n",
    "    x_axis = []; y_axis = []; ed = []\n",
    "    for i in range(df.iloc[:,j].shape[0]):\n",
    "        if df.iloc[:,j].isnull()[i] == True:\n",
    "            x_axis.append(df.iloc[:,j][i]); y_axis.append(df.iloc[:,j][i]); ed.append(df.iloc[:,j][i])\n",
    "        else:\n",
    "            a = df.iloc[:,j][i].split(';')\n",
    "            b = [a[0],a[2]]\n",
    "            c = [float(a[1]),float(a[3])]\n",
    "            d = dict(zip(b, c))\n",
    "            cord = [0,0]\n",
    "            for e in d:\n",
    "                f = [e,d[e]]\n",
    "                cord[dire[f[0]]] += num[f[0]]*f[1]\n",
    "            edu = math.sqrt(sum(map(lambda x : x * x, cord)))\n",
    "            x_axis.append(cord[0]) ; y_axis.append(cord[1]) ; ed.append(edu)\n",
    "    new = pd.DataFrame({df.columns[j] + str('_x_axis'): x_axis,df.columns[j] + str('_y_axis'): y_axis,df.columns[j] + str('_Euclidean'): ed})\n",
    "    concat_data.append(new)\n",
    "first = pd.concat(concat_data,axis=1)\n",
    "\n",
    "\n",
    "concat_data1 = []\n",
    "for j in range(207,227):\n",
    "    x_axis = []; y_axis = []; ed = []\n",
    "    for i in range(df.iloc[:,j].shape[0]):\n",
    "        if df.iloc[:,j].isnull()[i] == True:\n",
    "            x_axis.append(df.iloc[:,j][i]); y_axis.append(df.iloc[:,j][i]); ed.append(df.iloc[:,j][i])\n",
    "        else:\n",
    "            a = df.iloc[:,j][i].split(';')\n",
    "            b = [a[0],a[2]]\n",
    "            c = [float(a[1]),float(a[3])]\n",
    "            d = dict(zip(b, c))\n",
    "            cord = [0,0]\n",
    "            for e in d:\n",
    "                f = [e,d[e]]\n",
    "                cord[dire[f[0]]] += num[f[0]]*f[1]\n",
    "            edu = math.sqrt(sum(map(lambda x : x * x, cord)))\n",
    "            x_axis.append(cord[0]) ; y_axis.append(cord[1]) ; ed.append(edu)\n",
    "    new = pd.DataFrame({df.columns[j] + str('_x_axis'): x_axis,df.columns[j] + str('_y_axis'): y_axis,df.columns[j] + str('_Euclidean'): ed})\n",
    "    concat_data1.append(new)\n",
    "second = pd.concat(concat_data1,axis=1)\n",
    "\n",
    "_all = pd.concat([first,second],axis=1)\n",
    "df_all = pd.concat([df,_all],axis = 1)\n",
    "hide_sloution()"
   ]
  },
  {
   "cell_type": "code",
   "execution_count": 6,
   "metadata": {
    "collapsed": true
   },
   "outputs": [
    {
     "data": {
      "text/html": [
       "\n",
       "<form action=\"javascript:code_toggle()\"><input type=\"submit\" id=\"toggleButton\" value=\"Show Sloution\"></form>\n"
      ],
      "text/plain": [
       "<IPython.core.display.HTML object>"
      ]
     },
     "metadata": {},
     "output_type": "display_data"
    }
   ],
   "source": [
    "feature_data = df_all.copy()\n",
    "# feature_data = feature_data.drop(feature_data.columns[np.r_[0,159:183,207:227,282:288]],axis = 1)\n",
    "# feature_check = feature_data.copy()\n",
    "# position = list(set(np.where(np.isnan(feature_data))[0].tolist()))\n",
    "# feature_data = feature_data.fillna(feature_data.median())\n",
    "# print(\"silhouette\")\n",
    "# silhouette_avgs = []\n",
    "# ks = range(2, 11)\n",
    "# for k in ks:\n",
    "#     kmeans_fit = cluster.KMeans(n_clusters = k).fit(feature_data)#算2-10各個k值的輪廓係數\n",
    "#     cluster_labels = kmeans_fit.labels_\n",
    "#     silhouette_avg = metrics.silhouette_score(feature_data, cluster_labels)#得到係數\n",
    "#     silhouette_avgs.append(silhouette_avg)\n",
    "# plt.bar(ks, silhouette_avgs)\n",
    "# kmeans = KMeans(n_clusters=2, random_state=0).fit(feature_data)\n",
    "# feature_check['Cluster'] = kmeans.labels_\n",
    "# a = feature_check[feature_check.Cluster == 1]\n",
    "# a = a.fillna(a.median())\n",
    "# b = feature_check[feature_check.Cluster == 0]\n",
    "# b = b.fillna(b.median())\n",
    "# complete_data = pd.concat([a,b],axis=0)\n",
    "# full_data = complete_data.drop('Cluster',axis = 1)\n",
    "hide_sloution()"
   ]
  },
  {
   "cell_type": "markdown",
   "metadata": {},
   "source": [
    "## Model"
   ]
  },
  {
   "cell_type": "code",
   "execution_count": 9,
   "metadata": {},
   "outputs": [
    {
     "name": "stdout",
     "output_type": "stream",
     "text": [
      "A1: 0.9971414451249104\n",
      "A2: 0.9974349517831598\n",
      "A3: 0.9962361414946296\n",
      "A4: 0.9960829775593476\n",
      "A5: 0.99604365924459\n",
      "A6: 0.9972088204960265\n"
     ]
    },
    {
     "data": {
      "text/html": [
       "\n",
       "<form action=\"javascript:code_toggle()\"><input type=\"submit\" id=\"toggleButton\" value=\"Show Sloution\"></form>\n"
      ],
      "text/plain": [
       "<IPython.core.display.HTML object>"
      ]
     },
     "metadata": {},
     "output_type": "display_data"
    }
   ],
   "source": [
    "feature_data = df_all.copy()\n",
    "feature_data = feature_data.drop(feature_data.columns[np.r_[0,159:183,207:227,282:288]],axis = 1)\n",
    "predition_data = pd.concat([feature_data,df_all.iloc[:,282:288]],axis = 1)\n",
    "input_fea = [0,24,48,72,96,120] \n",
    "prediction_value = []\n",
    "output = [predition_data.iloc[:,predition_data.shape[1]-6+i] for i in range(len(input_fea))]\n",
    "for i,j in enumerate(input_fea):\n",
    "    xgb = xgboost.XGBRegressor(n_estimators=100, learning_rate=0.08, gamma=0, subsample=0.75,colsample_bytree=1, max_depth=7)\n",
    "    xgb.fit(predition_data.iloc[:,np.r_[i:i+24,144:369]], output[i])\n",
    "    predictions = xgb.predict(predition_data.iloc[:,np.r_[i:i+24,144:369]])\n",
    "    print(\"A\"+str(i+1)+\":\",explained_variance_score(predictions,output[i]))\n",
    "    prediction_value.append(predictions)\n",
    "hide_sloution()"
   ]
  }
 ],
 "metadata": {
  "kernelspec": {
   "display_name": "Python 3",
   "language": "python",
   "name": "python3"
  },
  "language_info": {
   "codemirror_mode": {
    "name": "ipython",
    "version": 3
   },
   "file_extension": ".py",
   "mimetype": "text/x-python",
   "name": "python",
   "nbconvert_exporter": "python",
   "pygments_lexer": "ipython3",
   "version": "3.7.7"
  }
 },
 "nbformat": 4,
 "nbformat_minor": 4
}
